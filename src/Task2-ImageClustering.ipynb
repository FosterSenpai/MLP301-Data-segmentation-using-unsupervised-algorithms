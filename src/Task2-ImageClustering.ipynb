{
 "cells": [
  {
   "cell_type": "markdown",
   "id": "a5eeae02",
   "metadata": {},
   "source": [
    "# Setup"
   ]
  },
  {
   "cell_type": "code",
   "execution_count": 58,
   "id": "a11776d4",
   "metadata": {},
   "outputs": [],
   "source": [
    "import os\n",
    "import cv2\n",
    "import numpy as np\n",
    "import matplotlib.pyplot as plt\n",
    "from sklearn.metrics import silhouette_score\n",
    "from skimage import morphology\n",
    "from glob import glob\n",
    "from tkinter import Tk, filedialog, Label, Button, Frame\n",
    "from PIL import Image, ImageTk"
   ]
  },
  {
   "cell_type": "code",
   "execution_count": 59,
   "id": "06d1269d",
   "metadata": {},
   "outputs": [
    {
     "name": "stdout",
     "output_type": "stream",
     "text": [
      "Working directory set to: c:\\Dev\\Repos\\MLP301-Data-segmentation-using-unsupervised-algorithms\n"
     ]
    }
   ],
   "source": [
    "# Function to set the working directory to the project root\n",
    "# To make it easy to run project without need for manual path changes\n",
    "from pathlib import Path\n",
    "\n",
    "# Find the project root by looking for the .git folder\n",
    "def find_project_root(current_path: Path):\n",
    "    for parent in [current_path] + list(current_path.parents):\n",
    "        if (parent / \".git\").exists():\n",
    "            return parent\n",
    "    return current_path  # Dont change if not found\n",
    "\n",
    "project_root = find_project_root(Path.cwd())\n",
    "os.chdir(project_root)\n",
    "print(\"Working directory set to:\", os.getcwd())"
   ]
  },
  {
   "cell_type": "code",
   "execution_count": 60,
   "id": "63be1faf",
   "metadata": {},
   "outputs": [
    {
     "name": "stdout",
     "output_type": "stream",
     "text": [
      "Total images found: 1888\n"
     ]
    }
   ],
   "source": [
    "# Loading images\n",
    "dataset_path = \"data/Task 2-ImageDataset/\"\n",
    "image_paths = glob(os.path.join(dataset_path, \"*.jpg\"))\n",
    "print(f\"Total images found: {len(image_paths)}\")"
   ]
  },
  {
   "cell_type": "code",
   "execution_count": null,
   "id": "6f077638",
   "metadata": {},
   "outputs": [],
   "source": [
    "def preprocess_image(image, size=(256, 256)):\n",
    "    # Resize, convert to RGB, and denoise\n",
    "    img = cv2.resize(image, size)\n",
    "    img = cv2.cvtColor(img, cv2.COLOR_BGR2RGB)\n",
    "    img = cv2.fastNlMeansDenoisingColored(img, None, 10, 10, 7, 21)\n",
    "    # Resize\n",
    "    # Denoise\n",
    "    # Convert color space\n",
    "    # Histogram equalization\n",
    "    # Color correction\n",
    "    # Shadow removal\n",
    "    # Sharpening\n",
    "    return img"
   ]
  },
  {
   "cell_type": "code",
   "execution_count": null,
   "id": "c2fc7f72",
   "metadata": {},
   "outputs": [],
   "source": [
    "def segment_image(image, k=3):\n",
    "    # Reshape\n",
    "    pixels = image.reshape(-1, 3)\n",
    "    pixels = np.float32(pixels)\n",
    "    \n",
    "    # KMeans\n",
    "    criteria = (cv2.TERM_CRITERIA_EPS + cv2.TERM_CRITERIA_MAX_ITER, 1000, 0.95)\n",
    "    _, labels, centers = cv2.kmeans(pixels, k, None, criteria, 10, cv2.KMEANS_RANDOM_CENTERS) # type: ignore\n",
    "    \n",
    "    # Reconstruct segmented image\n",
    "    centers = np.uint8(centers)\n",
    "    segmented_data = centers[labels.flatten()] # type: ignore\n",
    "    img = segmented_data.reshape((image.shape))\n",
    "    \n",
    "    return img"
   ]
  },
  {
   "cell_type": "code",
   "execution_count": null,
   "id": "d08f3065",
   "metadata": {},
   "outputs": [],
   "source": [
    "def postprocess_image(image):\n",
    "    # identify healthy and diseased parts\n",
    "    # Create masks\n",
    "    \n",
    "    # open to remove spots\n",
    "    # Fill holes\n",
    "    # Remove small objects (Maybe)\n",
    "    \n",
    "    # Apply masks to original image\n",
    "    # extract healthy and diseased parts\n",
    "    \n",
    "    # \n",
    "    \n",
    "    return image"
   ]
  }
 ],
 "metadata": {
  "kernelspec": {
   "display_name": ".venv",
   "language": "python",
   "name": "python3"
  },
  "language_info": {
   "codemirror_mode": {
    "name": "ipython",
    "version": 3
   },
   "file_extension": ".py",
   "mimetype": "text/x-python",
   "name": "python",
   "nbconvert_exporter": "python",
   "pygments_lexer": "ipython3",
   "version": "3.13.5"
  }
 },
 "nbformat": 4,
 "nbformat_minor": 5
}
